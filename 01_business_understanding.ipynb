{
 "cells": [
  {
   "cell_type": "markdown",
   "metadata": {},
   "source": [
    "### well structured - an ode to databases\n"
   ]
  },
  {
   "cell_type": "markdown",
   "metadata": {},
   "source": [
    "# buisness understanding"
   ]
  },
  {
   "cell_type": "markdown",
   "metadata": {},
   "source": [
    "##### The UK had been a member state of the EU or its predecessor, the European Communities (EC), since 1 January 1973\n",
    "\n",
    "##### Brexit (portmanteau of \"British exit\") was the withdrawal of the United Kingdom (UK) from the European Union (EU). Following a referendum on 23 June 2016.   \n",
    "\n",
    "##### Brexit officially took place at 23:00 GMT on 31 January 2020 (00:00 1 February 2020 CET).The UK is the only sovereign country to have left the EU. \n",
    "\n",
    "##### https://en.wikipedia.org/wiki/Brexit"
   ]
  },
  {
   "cell_type": "markdown",
   "metadata": {},
   "source": [
    "##### https://www.destatis.de/Europa/EN/Topic/Brexit/_node.html"
   ]
  }
 ],
 "metadata": {
  "kernelspec": {
   "display_name": "venv",
   "language": "python",
   "name": "python3"
  },
  "language_info": {
   "codemirror_mode": {
    "name": "ipython",
    "version": 3
   },
   "file_extension": ".py",
   "mimetype": "text/x-python",
   "name": "python",
   "nbconvert_exporter": "python",
   "pygments_lexer": "ipython3",
   "version": "3.11.8"
  }
 },
 "nbformat": 4,
 "nbformat_minor": 2
}
