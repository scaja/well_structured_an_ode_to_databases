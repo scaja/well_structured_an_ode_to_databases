{
 "cells": [
  {
   "cell_type": "markdown",
   "metadata": {},
   "source": [
    "### well structured - an ode to databases\n"
   ]
  },
  {
   "cell_type": "markdown",
   "metadata": {},
   "source": [
    "# linear regression"
   ]
  },
  {
   "cell_type": "markdown",
   "metadata": {},
   "source": [
    "### import libraries"
   ]
  },
  {
   "cell_type": "code",
   "execution_count": 192,
   "metadata": {},
   "outputs": [],
   "source": [
    "import sqlite3\n",
    "import pandas as pd"
   ]
  },
  {
   "cell_type": "markdown",
   "metadata": {},
   "source": [
    "### insert avarage values in lin_reg_migration and lin_reg_economic_growth"
   ]
  },
  {
   "cell_type": "code",
   "execution_count": 203,
   "metadata": {},
   "outputs": [],
   "source": [
    "conn = sqlite3.connect('brexit.db')\n",
    "\n",
    "c = conn.cursor()\n",
    "sql = \"INSERT INTO lin_reg_migration (f_id_brexit_progress, avg_year, avg_immigration, avg_emigration) SELECT f_id_brexit_progress, AVG(year), AVG(immigration), AVG(emigration) FROM migration WHERE f_id_brexit_progress = 1\"\n",
    "c.execute(sql)\n",
    "\n",
    "sql = \"INSERT INTO lin_reg_migration (f_id_brexit_progress, avg_year, avg_immigration, avg_emigration) SELECT f_id_brexit_progress, AVG(year), AVG(immigration), AVG(emigration) FROM migration WHERE f_id_brexit_progress = 2\"\n",
    "c.execute(sql)\n",
    "\n",
    "sql = \"INSERT INTO lin_reg_migration (f_id_brexit_progress, avg_year, avg_immigration, avg_emigration) SELECT f_id_brexit_progress, AVG(year), AVG(immigration), AVG(emigration) FROM migration WHERE f_id_brexit_progress = 3\"\n",
    "c.execute(sql)\n",
    "\n",
    "sql = \"INSERT INTO lin_reg_economic_growth (f_id_brexit_progress, avg_year, avg_germany, avg_united_kingdom) SELECT f_id_brexit_progress, AVG(year), AVG(germany), AVG(united_kingdom) FROM economic_growth WHERE f_id_brexit_progress = 1\"\n",
    "c.execute(sql)\n",
    "\n",
    "sql = \"INSERT INTO lin_reg_economic_growth (f_id_brexit_progress, avg_year, avg_germany, avg_united_kingdom) SELECT f_id_brexit_progress, AVG(year), AVG(germany), AVG(united_kingdom) FROM economic_growth WHERE f_id_brexit_progress = 2\"\n",
    "c.execute(sql)\n",
    "\n",
    "sql = \"INSERT INTO lin_reg_economic_growth (f_id_brexit_progress, avg_year, avg_germany, avg_united_kingdom) SELECT f_id_brexit_progress, AVG(year), AVG(germany), AVG(united_kingdom) FROM economic_growth WHERE f_id_brexit_progress = 3\"\n",
    "c.execute(sql)\n",
    "\n",
    "conn.commit()\n",
    "conn.close()"
   ]
  },
  {
   "cell_type": "markdown",
   "metadata": {},
   "source": [
    "### calculate b and update in tables"
   ]
  },
  {
   "cell_type": "code",
   "execution_count": 204,
   "metadata": {},
   "outputs": [],
   "source": [
    "conn = sqlite3.connect('brexit.db')\n",
    "c = conn.cursor()\n",
    "\n",
    "# immigration\n",
    "sql = \"UPDATE lin_reg_migration SET b_year_immigration = (SELECT (SUM((migration.year - lin_reg_migration.avg_year) * (migration.immigration - lin_reg_migration.avg_immigration)) / SUM((migration.year - lin_reg_migration.avg_year)*(migration.year - lin_reg_migration.avg_year))) AS b_year_immigration FROM migration INNER JOIN lin_reg_migration ON lin_reg_migration.f_id_brexit_progress = migration.f_id_brexit_progress WHERE migration.f_id_brexit_progress = 1) WHERE f_id_brexit_progress = 1\"\n",
    "c.execute(sql)\n",
    "\n",
    "sql = \"UPDATE lin_reg_migration SET b_year_immigration = (SELECT (SUM((migration.year - lin_reg_migration.avg_year) * (migration.immigration - lin_reg_migration.avg_immigration)) / SUM((migration.year - lin_reg_migration.avg_year)*(migration.year - lin_reg_migration.avg_year))) AS b_year_immigration FROM migration INNER JOIN lin_reg_migration ON lin_reg_migration.f_id_brexit_progress = migration.f_id_brexit_progress WHERE migration.f_id_brexit_progress = 2) WHERE f_id_brexit_progress = 2\"\n",
    "c.execute(sql)\n",
    "\n",
    "sql = \"UPDATE lin_reg_migration SET b_year_immigration = (SELECT (SUM((migration.year - lin_reg_migration.avg_year) * (migration.immigration - lin_reg_migration.avg_immigration)) / SUM((migration.year - lin_reg_migration.avg_year)*(migration.year - lin_reg_migration.avg_year))) AS b_year_immigration FROM migration INNER JOIN lin_reg_migration ON lin_reg_migration.f_id_brexit_progress = migration.f_id_brexit_progress WHERE migration.f_id_brexit_progress = 3) WHERE f_id_brexit_progress = 3\"\n",
    "c.execute(sql)\n",
    "\n",
    "# emigration\n",
    "sql = \"UPDATE lin_reg_migration SET b_year_emigration = (SELECT (SUM((migration.year - lin_reg_migration.avg_year) * (migration.emigration - lin_reg_migration.avg_emigration)) / SUM((migration.year - lin_reg_migration.avg_year)*(migration.year - lin_reg_migration.avg_year))) AS b_year_emigration FROM migration INNER JOIN lin_reg_migration ON lin_reg_migration.f_id_brexit_progress = migration.f_id_brexit_progress WHERE migration.f_id_brexit_progress = 1) WHERE f_id_brexit_progress = 1\"\n",
    "c.execute(sql)\n",
    "\n",
    "sql = \"UPDATE lin_reg_migration SET b_year_emigration = (SELECT (SUM((migration.year - lin_reg_migration.avg_year) * (migration.emigration - lin_reg_migration.avg_emigration)) / SUM((migration.year - lin_reg_migration.avg_year)*(migration.year - lin_reg_migration.avg_year))) AS b_year_emigration FROM migration INNER JOIN lin_reg_migration ON lin_reg_migration.f_id_brexit_progress = migration.f_id_brexit_progress WHERE migration.f_id_brexit_progress = 2) WHERE f_id_brexit_progress = 2\"\n",
    "c.execute(sql)\n",
    "\n",
    "sql = \"UPDATE lin_reg_migration SET b_year_emigration = (SELECT (SUM((migration.year - lin_reg_migration.avg_year) * (migration.emigration - lin_reg_migration.avg_emigration)) / SUM((migration.year - lin_reg_migration.avg_year)*(migration.year - lin_reg_migration.avg_year))) AS b_year_emigration FROM migration INNER JOIN lin_reg_migration ON lin_reg_migration.f_id_brexit_progress = migration.f_id_brexit_progress WHERE migration.f_id_brexit_progress = 3) WHERE f_id_brexit_progress = 3\"\n",
    "c.execute(sql)\n",
    "\n",
    "#germany\n",
    "sql = \"UPDATE lin_reg_economic_growth SET b_year_germany = (SELECT (SUM((economic_growth.year - lin_reg_economic_growth.avg_year) * (economic_growth.germany - lin_reg_economic_growth.avg_germany)) / SUM((economic_growth.year - lin_reg_economic_growth.avg_year)*(economic_growth.year - lin_reg_economic_growth.avg_year))) AS b_year_germany FROM economic_growth INNER JOIN lin_reg_economic_growth ON lin_reg_economic_growth.f_id_brexit_progress = economic_growth.f_id_brexit_progress WHERE economic_growth.f_id_brexit_progress = 1) WHERE f_id_brexit_progress = 1\"\n",
    "c.execute(sql)\n",
    "\n",
    "sql = \"UPDATE lin_reg_economic_growth SET b_year_germany = (SELECT (SUM((economic_growth.year - lin_reg_economic_growth.avg_year) * (economic_growth.germany - lin_reg_economic_growth.avg_germany)) / SUM((economic_growth.year - lin_reg_economic_growth.avg_year)*(economic_growth.year - lin_reg_economic_growth.avg_year))) AS b_year_germany FROM economic_growth INNER JOIN lin_reg_economic_growth ON lin_reg_economic_growth.f_id_brexit_progress = economic_growth.f_id_brexit_progress WHERE economic_growth.f_id_brexit_progress = 2) WHERE f_id_brexit_progress = 2\"\n",
    "c.execute(sql)\n",
    "\n",
    "sql = \"UPDATE lin_reg_economic_growth SET b_year_germany = (SELECT (SUM((economic_growth.year - lin_reg_economic_growth.avg_year) * (economic_growth.germany - lin_reg_economic_growth.avg_germany)) / SUM((economic_growth.year - lin_reg_economic_growth.avg_year)*(economic_growth.year - lin_reg_economic_growth.avg_year))) AS b_year_germany FROM economic_growth INNER JOIN lin_reg_economic_growth ON lin_reg_economic_growth.f_id_brexit_progress = economic_growth.f_id_brexit_progress WHERE economic_growth.f_id_brexit_progress = 3) WHERE f_id_brexit_progress = 3\"\n",
    "c.execute(sql)\n",
    "\n",
    "# united kingdom\n",
    "sql = \"UPDATE lin_reg_economic_growth SET b_year_united_kingdom = (SELECT (SUM((economic_growth.year - lin_reg_economic_growth.avg_year) * (economic_growth.united_kingdom - lin_reg_economic_growth.avg_united_kingdom)) / SUM((economic_growth.year - lin_reg_economic_growth.avg_year)*(economic_growth.year - lin_reg_economic_growth.avg_year))) AS b_year_united_kingdom FROM economic_growth INNER JOIN lin_reg_economic_growth ON lin_reg_economic_growth.f_id_brexit_progress = economic_growth.f_id_brexit_progress WHERE economic_growth.f_id_brexit_progress = 1) WHERE f_id_brexit_progress = 1\"\n",
    "c.execute(sql)\n",
    "\n",
    "sql = \"UPDATE lin_reg_economic_growth SET b_year_united_kingdom = (SELECT (SUM((economic_growth.year - lin_reg_economic_growth.avg_year) * (economic_growth.united_kingdom - lin_reg_economic_growth.avg_united_kingdom)) / SUM((economic_growth.year - lin_reg_economic_growth.avg_year)*(economic_growth.year - lin_reg_economic_growth.avg_year))) AS b_year_united_kingdom FROM economic_growth INNER JOIN lin_reg_economic_growth ON lin_reg_economic_growth.f_id_brexit_progress = economic_growth.f_id_brexit_progress WHERE economic_growth.f_id_brexit_progress = 2) WHERE f_id_brexit_progress = 2\"\n",
    "c.execute(sql)\n",
    "\n",
    "sql = \"UPDATE lin_reg_economic_growth SET b_year_united_kingdom = (SELECT (SUM((economic_growth.year - lin_reg_economic_growth.avg_year) * (economic_growth.united_kingdom - lin_reg_economic_growth.avg_united_kingdom)) / SUM((economic_growth.year - lin_reg_economic_growth.avg_year)*(economic_growth.year - lin_reg_economic_growth.avg_year))) AS b_year_united_kingdom FROM economic_growth INNER JOIN lin_reg_economic_growth ON lin_reg_economic_growth.f_id_brexit_progress = economic_growth.f_id_brexit_progress WHERE economic_growth.f_id_brexit_progress = 3) WHERE f_id_brexit_progress = 3\"\n",
    "c.execute(sql)\n",
    "\n",
    "conn.commit()\n",
    "conn.close()\n"
   ]
  },
  {
   "cell_type": "markdown",
   "metadata": {},
   "source": [
    "### calculate a and update in tables"
   ]
  },
  {
   "cell_type": "code",
   "execution_count": 205,
   "metadata": {},
   "outputs": [],
   "source": [
    "conn = sqlite3.connect('brexit.db')\n",
    "c = conn.cursor()\n",
    "\n",
    "# immigration\n",
    "sql = \"UPDATE lin_reg_migration SET a_year_immigration = (SELECT ((lin_reg_migration.avg_immigration) - (lin_reg_migration.b_year_immigration * lin_reg_migration.avg_year)) FROM lin_reg_migration WHERE f_id_brexit_progress = 1) WHERE f_id_brexit_progress = 1\"\n",
    "c.execute(sql)\n",
    "\n",
    "sql = \"UPDATE lin_reg_migration SET a_year_immigration = (SELECT ((lin_reg_migration.avg_immigration) - (lin_reg_migration.b_year_immigration * lin_reg_migration.avg_year)) FROM lin_reg_migration WHERE f_id_brexit_progress = 2) WHERE f_id_brexit_progress = 2\"\n",
    "c.execute(sql)\n",
    "\n",
    "sql = \"UPDATE lin_reg_migration SET a_year_immigration = (SELECT ((lin_reg_migration.avg_immigration) - (lin_reg_migration.b_year_immigration * lin_reg_migration.avg_year)) FROM lin_reg_migration WHERE f_id_brexit_progress = 3) WHERE f_id_brexit_progress = 3\"\n",
    "c.execute(sql)\n",
    "\n",
    "# emigration\n",
    "sql = \"UPDATE lin_reg_migration SET a_year_emigration = (SELECT ((lin_reg_migration.avg_emigration) - (lin_reg_migration.b_year_emigration * lin_reg_migration.avg_year)) FROM lin_reg_migration WHERE f_id_brexit_progress = 1) WHERE f_id_brexit_progress = 1\"\n",
    "c.execute(sql)\n",
    "\n",
    "sql = \"UPDATE lin_reg_migration SET a_year_emigration = (SELECT ((lin_reg_migration.avg_emigration) - (lin_reg_migration.b_year_emigration * lin_reg_migration.avg_year)) FROM lin_reg_migration WHERE f_id_brexit_progress = 2) WHERE f_id_brexit_progress = 2\"\n",
    "c.execute(sql)\n",
    "\n",
    "sql = \"UPDATE lin_reg_migration SET a_year_emigration = (SELECT ((lin_reg_migration.avg_emigration) - (lin_reg_migration.b_year_emigration * lin_reg_migration.avg_year)) FROM lin_reg_migration WHERE f_id_brexit_progress = 3) WHERE f_id_brexit_progress = 3\"\n",
    "c.execute(sql)\n",
    "\n",
    "# germany\n",
    "sql = \"UPDATE lin_reg_economic_growth SET a_year_germany = (SELECT ((lin_reg_economic_growth.avg_germany) - (lin_reg_economic_growth.b_year_germany * lin_reg_economic_growth.avg_year)) FROM lin_reg_economic_growth WHERE f_id_brexit_progress = 1) WHERE f_id_brexit_progress = 1\"\n",
    "c.execute(sql)\n",
    "\n",
    "sql = \"UPDATE lin_reg_economic_growth SET a_year_germany = (SELECT ((lin_reg_economic_growth.avg_germany) - (lin_reg_economic_growth.b_year_germany * lin_reg_economic_growth.avg_year)) FROM lin_reg_economic_growth WHERE f_id_brexit_progress = 2) WHERE f_id_brexit_progress = 2\"\n",
    "c.execute(sql)\n",
    "\n",
    "sql = \"UPDATE lin_reg_economic_growth SET a_year_germany = (SELECT ((lin_reg_economic_growth.avg_germany) - (lin_reg_economic_growth.b_year_germany * lin_reg_economic_growth.avg_year)) FROM lin_reg_economic_growth WHERE f_id_brexit_progress = 3) WHERE f_id_brexit_progress = 3\"\n",
    "c.execute(sql)\n",
    "\n",
    "# united kingdom\n",
    "sql = \"UPDATE lin_reg_economic_growth SET a_year_united_kingdom = (SELECT ((lin_reg_economic_growth.avg_united_kingdom) - (lin_reg_economic_growth.b_year_united_kingdom * lin_reg_economic_growth.avg_year)) FROM lin_reg_economic_growth WHERE f_id_brexit_progress = 1) WHERE f_id_brexit_progress = 1\"\n",
    "c.execute(sql)\n",
    "\n",
    "sql = \"UPDATE lin_reg_economic_growth SET a_year_united_kingdom = (SELECT ((lin_reg_economic_growth.avg_united_kingdom) - (lin_reg_economic_growth.b_year_united_kingdom * lin_reg_economic_growth.avg_year)) FROM lin_reg_economic_growth WHERE f_id_brexit_progress = 2) WHERE f_id_brexit_progress = 2\"\n",
    "c.execute(sql)\n",
    "\n",
    "sql = \"UPDATE lin_reg_economic_growth SET a_year_united_kingdom = (SELECT ((lin_reg_economic_growth.avg_united_kingdom) - (lin_reg_economic_growth.b_year_united_kingdom * lin_reg_economic_growth.avg_year)) FROM lin_reg_economic_growth WHERE f_id_brexit_progress = 3) WHERE f_id_brexit_progress = 3\"\n",
    "c.execute(sql)\n",
    "\n",
    "conn.commit()\n",
    "conn.close()"
   ]
  }
 ],
 "metadata": {
  "kernelspec": {
   "display_name": "venv",
   "language": "python",
   "name": "python3"
  },
  "language_info": {
   "codemirror_mode": {
    "name": "ipython",
    "version": 3
   },
   "file_extension": ".py",
   "mimetype": "text/x-python",
   "name": "python",
   "nbconvert_exporter": "python",
   "pygments_lexer": "ipython3",
   "version": "3.11.8"
  }
 },
 "nbformat": 4,
 "nbformat_minor": 2
}
