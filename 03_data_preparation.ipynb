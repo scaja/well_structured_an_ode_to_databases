{
 "cells": [
  {
   "cell_type": "markdown",
   "metadata": {},
   "source": [
    "### well structured - an ode to databases\n"
   ]
  },
  {
   "cell_type": "markdown",
   "metadata": {},
   "source": [
    "# data preparation"
   ]
  },
  {
   "cell_type": "markdown",
   "metadata": {},
   "source": [
    "### import libraries"
   ]
  },
  {
   "cell_type": "code",
   "execution_count": 102,
   "metadata": {},
   "outputs": [],
   "source": [
    "import sqlite3\n",
    "import pandas as pd\n",
    "import numpy as np"
   ]
  },
  {
   "cell_type": "markdown",
   "metadata": {},
   "source": [
    "## handling missing values"
   ]
  },
  {
   "cell_type": "markdown",
   "metadata": {},
   "source": [
    "### create table brexit_progress"
   ]
  },
  {
   "cell_type": "code",
   "execution_count": 103,
   "metadata": {},
   "outputs": [],
   "source": [
    "conn = sqlite3.connect('brexit.db')\n",
    "c = conn.cursor()\n",
    "\n",
    "sql = \"CREATE TABLE brexit_progress (id_brexit_progress INTEGER PRIMARY KEY AUTOINCREMENT, start DATE, end DATE, description VARCHAR(255), updated DATE)\"\n",
    "c.execute(sql)\n",
    "\n",
    "brexit_progresses = [[2008, 2015, 'before referendum', 'date()'],[2016, 2020, 'before brexit', 'date()'],[2021, 2022, 'after brexit', 'date()']]\n",
    "for brexit_progress in brexit_progresses:\n",
    "    sql = \"INSERT INTO brexit_progress (start, end, description, updated) VALUES (\" + str(brexit_progress[0]) + \",\" + str(brexit_progress[1]) + \",'\" + str(brexit_progress[2]) + \"',\" + str(brexit_progress[3]) + \")\"\n",
    "    c.execute(sql) \n",
    "\n",
    "conn.commit()\n",
    "conn.close()"
   ]
  },
  {
   "cell_type": "markdown",
   "metadata": {},
   "source": [
    "### modify table economic-growth"
   ]
  },
  {
   "cell_type": "code",
   "execution_count": 104,
   "metadata": {},
   "outputs": [],
   "source": [
    "conn = sqlite3.connect('brexit.db')\n",
    "c = conn.cursor()\n",
    "\n",
    "sql = \"ALTER TABLE `economic-growth` ADD COLUMN f_id_brexit_progress\"\n",
    "c.execute(sql)\n",
    "\n",
    "sql = \"ALTER TABLE `economic-growth` ADD COLUMN updated\"\n",
    "c.execute(sql)\n",
    "\n",
    "sql = \"ALTER TABLE migration ADD f_id_brexit_progress\"\n",
    "c.execute(sql)\n",
    "\n",
    "sql = \"ALTER TABLE migration ADD updated\"\n",
    "c.execute(sql)\n",
    "\n",
    "sql = \"UPDATE `economic-growth` SET f_id_brexit_progress = 0, updated = datetime() WHERE Jahr = 2007\"\n",
    "c.execute(sql) \n",
    "\n",
    "sql = \"UPDATE `economic-growth` SET f_id_brexit_progress = 1, updated = datetime() WHERE Jahr > 2007\"\n",
    "c.execute(sql)\n",
    "\n",
    "sql = \"UPDATE `economic-growth` SET f_id_brexit_progress = 2, updated = datetime() WHERE Jahr > 2016\"\n",
    "c.execute(sql)\n",
    "\n",
    "sql = \"UPDATE `economic-growth` SET f_id_brexit_progress = 3, updated = datetime() WHERE Jahr > 2020\"\n",
    "c.execute(sql)\n",
    "\n",
    "sql = \"UPDATE migration SET f_id_brexit_progress = 0, updated = datetime() WHERE Year = 2007\"\n",
    "c.execute(sql)\n",
    "\n",
    "sql = \"UPDATE migration SET f_id_brexit_progress = 1, updated = datetime() WHERE Year > 2007\"\n",
    "c.execute(sql)\n",
    "\n",
    "sql = \"UPDATE migration SET f_id_brexit_progress = 2, updated = datetime() WHERE Year > 2016\"\n",
    "c.execute(sql)\n",
    "\n",
    "sql = \"UPDATE migration SET f_id_brexit_progress = 3 , updated = datetime() WHERE Year > 2020\"\n",
    "c.execute(sql)\n",
    "\n",
    "sql = \"ALTER TABLE `economic-growth` DROP COLUMN `EU-27`\"\n",
    "c.execute(sql)\n",
    "\n",
    "sql = \"ALTER TABLE `economic-growth` RENAME COLUMN Jahr TO year\"\n",
    "c.execute(sql)\n",
    "\n",
    "sql = \"ALTER TABLE `economic-growth` RENAME COLUMN Germany TO germany\"\n",
    "c.execute(sql)\n",
    "\n",
    "sql = \"ALTER TABLE `economic-growth` RENAME COLUMN `United Kingdom` TO united_kingdom\"\n",
    "c.execute(sql)\n",
    "\n",
    "sql = \"ALTER TABLE `economic-growth` RENAME TO economic_growth\"\n",
    "c.execute(sql)\n",
    "\n",
    "sql = \"ALTER TABLE migration RENAME COLUMN Year TO year\"\n",
    "c.execute(sql)\n",
    "\n",
    "sql = \"ALTER TABLE migration RENAME COLUMN Immigration TO immigration\"\n",
    "c.execute(sql)\n",
    "\n",
    "sql = \"ALTER TABLE migration RENAME COLUMN Emigration TO emigration\"\n",
    "c.execute(sql)\n",
    "\n",
    "conn.commit()\n",
    "conn.close()"
   ]
  },
  {
   "cell_type": "markdown",
   "metadata": {},
   "source": [
    "## create tables lin_reg_migration and lin_reg_economic_growth"
   ]
  },
  {
   "cell_type": "code",
   "execution_count": 105,
   "metadata": {},
   "outputs": [],
   "source": [
    "conn = sqlite3.connect('brexit.db')\n",
    "c = conn.cursor()\n",
    "\n",
    "sql = \"CREATE TABLE lin_reg_migration (id_lin_reg_migration INTEGER PRIMARY KEY AUTOINCREMENT, f_id_brexit_progress INT(10), avg_year DATE, avg_immigration INT(255), avg_emigration INT(255), b_year_immigration INT(10), b_year_emigration INT(10), a_year_immigration INT(10), a_year_emigration INT(10), updated TIMESTAMP NULL DEFAULT CURRENT_TIMESTAMP)\"\n",
    "c.execute(sql)\n",
    "\n",
    "sql = \"CREATE TABLE lin_reg_economic_growth (id_lin_reg_economic_growth INTEGER PRIMARY KEY AUTOINCREMENT, f_id_brexit_progress INT(10), avg_year DATE, avg_germany INT(255), avg_united_kingdom INT(255), b_year_germany INT(10), b_year_united_kingdom INT(10), a_year_germany INT(10), a_year_united_kingdom INT(10), updated TIMESTAMP NULL DEFAULT CURRENT_TIMESTAMP)\"\n",
    "c.execute(sql)\n",
    "\n",
    "conn.commit()\n",
    "conn.close()"
   ]
  }
 ],
 "metadata": {
  "kernelspec": {
   "display_name": "venv",
   "language": "python",
   "name": "python3"
  },
  "language_info": {
   "codemirror_mode": {
    "name": "ipython",
    "version": 3
   },
   "file_extension": ".py",
   "mimetype": "text/x-python",
   "name": "python",
   "nbconvert_exporter": "python",
   "pygments_lexer": "ipython3",
   "version": "3.11.8"
  }
 },
 "nbformat": 4,
 "nbformat_minor": 2
}
